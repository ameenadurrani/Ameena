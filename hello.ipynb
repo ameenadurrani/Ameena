{
 "cells": [
  {
   "cell_type": "code",
   "execution_count": 5,
   "metadata": {},
   "outputs": [
    {
     "name": "stdout",
     "output_type": "stream",
     "text": [
      "Khadija\n",
      "Ayesha\n",
      "Abeera\n",
      "Zainab\n",
      "Rafay\n",
      "Rakib\n"
     ]
    }
   ],
   "source": [
    "#Names\n",
    "friends : list = ['Khadija','Ayesha','Abeera','Zainab','Rafay','Rakib']\n",
    "print(friends[0])\n",
    "print(friends[1])\n",
    "print(friends[2])\n",
    "print(friends[3])\n",
    "print(friends[4])\n",
    "print(friends[5])"
   ]
  },
  {
   "cell_type": "code",
   "execution_count": 6,
   "metadata": {},
   "outputs": [
    {
     "name": "stdout",
     "output_type": "stream",
     "text": [
      "Hello Khadija, It's great being your friend.\n",
      "Hello Ayesha, It's great being your friend.\n",
      "Hello Abeera, It's great being your friend.\n",
      "Hello Zainab, It's great being your friend.\n",
      "Hello Rafay, It's great being your friend.\n",
      "Hello Rakib, It's great being your friend.\n"
     ]
    }
   ],
   "source": [
    "#Greetings\n",
    "friends : list = ['Khadija','Ayesha','Abeera','Zainab','Rafay','Rakib']\n",
    "print(f\"Hello {friends[0]}, It's great being your friend.\")\n",
    "print(f\"Hello {friends[1]}, It's great being your friend.\")\n",
    "print(f\"Hello {friends[2]}, It's great being your friend.\")\n",
    "print(f\"Hello {friends[3]}, It's great being your friend.\")\n",
    "print(f\"Hello {friends[4]}, It's great being your friend.\")\n",
    "print(f\"Hello {friends[5]}, It's great being your friend.\")\n"
   ]
  },
  {
   "cell_type": "code",
   "execution_count": 9,
   "metadata": {},
   "outputs": [
    {
     "name": "stdout",
     "output_type": "stream",
     "text": [
      "I would like to own a Audi.\n",
      "I would like to own a Mercedes.\n",
      "I would like to own a Honda Motorcycle.\n",
      "I would like to own an Electric Bike.\n"
     ]
    }
   ],
   "source": [
    "#Your own list\n",
    "fav_mode_of_transportation : list = ['Audi','Mercedes','Honda Motorcycle','Electric Bike']\n",
    "print(f\"I would like to own a {fav_mode_of_transportation[0]}.\")\n",
    "print(f\"I would like to own a {fav_mode_of_transportation[1]}.\")\n",
    "print(f\"I would like to own a {fav_mode_of_transportation[2]}.\")\n",
    "print(f\"I would like to own an {fav_mode_of_transportation[3]}.\")"
   ]
  },
  {
   "cell_type": "code",
   "execution_count": 11,
   "metadata": {},
   "outputs": [
    {
     "name": "stdout",
     "output_type": "stream",
     "text": [
      "Hello my favourite human Rida Aaapi, I would like to invite you at Dinner. \n",
      "Hello my favourite human Nana Abbu, I would like to invite you at Dinner. \n",
      "Hello my favourite human Aabish, I would like to invite you at Dinner. \n",
      "Hello my favourite human Mateen Bhai, I would like to invite you at Dinner. \n",
      "Hello my favourite human Nano, I would like to invite you at Dinner. \n"
     ]
    }
   ],
   "source": [
    "#Guest list\n",
    "guests : list = ['Rida Aaapi','Nana Abbu','Aabish','Mateen Bhai','Nano']\n",
    "print(f\"Hello my favourite human {guests[0]}, I would like to invite you at Dinner. \")\n",
    "print(f\"Hello my favourite human {guests[1]}, I would like to invite you at Dinner. \")\n",
    "print(f\"Hello my favourite human {guests[2]}, I would like to invite you at Dinner. \")\n",
    "print(f\"Hello my favourite human {guests[3]}, I would like to invite you at Dinner. \")\n",
    "print(f\"Hello my favourite human {guests[4]}, I would like to invite you at Dinner. \")"
   ]
  },
  {
   "cell_type": "code",
   "execution_count": 27,
   "metadata": {},
   "outputs": [
    {
     "name": "stdout",
     "output_type": "stream",
     "text": [
      "Aabish couldn't make it for the dinner.\n",
      "['Rida Aaapi', 'Nana Abbu', 'Khadija', 'Mateen Bhai', 'Nano']\n",
      "Nana Abbu couldn't make it for the dinner.\n",
      "['Rida Aaapi', 'Zainab', 'Khadija', 'Mateen Bhai', 'Nano']\n",
      "Hello my favourite human Rida Aaapi, I would like to invite you at Dinner. \n",
      "Hello my favourite human Zainab, I would like to invite you at Dinner. \n",
      "Hello my favourite human Khadija, I would like to invite you at Dinner. \n",
      "Hello my favourite human Mateen Bhai, I would like to invite you at Dinner. \n",
      "Hello my favourite human Nano, I would like to invite you at Dinner. \n"
     ]
    }
   ],
   "source": [
    "#Changing Guest List\n",
    "guests : list = ['Rida Aaapi','Nana Abbu','Aabish','Mateen Bhai','Nano']\n",
    "print(f\"{guests[2]} couldn't make it for the dinner.\")\n",
    "guests.remove(guests[2])\n",
    "guests.insert(2,\"Khadija\")\n",
    "print(guests)\n",
    "print(f\"{guests[1]} couldn't make it for the dinner.\")\n",
    "guests.remove(guests[1])\n",
    "guests.insert(1,\"Zainab\")\n",
    "print(guests)\n",
    "print(f\"Hello my favourite human {guests[0]}, I would like to invite you at Dinner. \")\n",
    "print(f\"Hello my favourite human {guests[1]}, I would like to invite you at Dinner. \")\n",
    "print(f\"Hello my favourite human {guests[2]}, I would like to invite you at Dinner. \")\n",
    "print(f\"Hello my favourite human {guests[3]}, I would like to invite you at Dinner. \")\n",
    "print(f\"Hello my favourite human {guests[4]}, I would like to invite you at Dinner. \")"
   ]
  },
  {
   "cell_type": "code",
   "execution_count": 30,
   "metadata": {},
   "outputs": [
    {
     "name": "stdout",
     "output_type": "stream",
     "text": [
      "I found a bigger table so I am inviting more people to the dinner.\n",
      "Hello my favourite human Asma Aapi, I would like to invite you at Dinner. \n",
      "Hello my favourite human Rida Aaapi, I would like to invite you at Dinner. \n",
      "Hello my favourite human Nana Abbu, I would like to invite you at Dinner. \n",
      "Hello my favourite human Aabish, I would like to invite you at Dinner. \n",
      "Hello my favourite human Abeera, I would like to invite you at Dinner. \n",
      "Hello my favourite human Mateen Bhai, I would like to invite you at Dinner. \n",
      "Hello my favourite human Nano, I would like to invite you at Dinner. \n",
      "Hello my favourite human Ayesha, I would like to invite you at Dinner. \n",
      "['Asma Aapi', 'Rida Aaapi', 'Nana Abbu', 'Aabish', 'Abeera', 'Mateen Bhai', 'Nano', 'Ayesha']\n"
     ]
    }
   ],
   "source": [
    "# More Guests\n",
    "guests : list = ['Rida Aaapi','Nana Abbu','Aabish','Mateen Bhai','Nano']\n",
    "print(\"I found a bigger table so I am inviting more people to the dinner.\")\n",
    "guests.insert(0,\"Asma Aapi\")\n",
    "guests.insert(4,\"Abeera\")\n",
    "guests.append(\"Ayesha\")\n",
    "print(f\"Hello my favourite human {guests[0]}, I would like to invite you at Dinner. \")\n",
    "print(f\"Hello my favourite human {guests[1]}, I would like to invite you at Dinner. \")\n",
    "print(f\"Hello my favourite human {guests[2]}, I would like to invite you at Dinner. \")\n",
    "print(f\"Hello my favourite human {guests[3]}, I would like to invite you at Dinner. \")\n",
    "print(f\"Hello my favourite human {guests[4]}, I would like to invite you at Dinner. \")\n",
    "print(f\"Hello my favourite human {guests[5]}, I would like to invite you at Dinner. \")\n",
    "print(f\"Hello my favourite human {guests[6]}, I would like to invite you at Dinner. \")\n",
    "print(f\"Hello my favourite human {guests[7]}, I would like to invite you at Dinner. \")\n",
    "print(guests)"
   ]
  },
  {
   "cell_type": "code",
   "execution_count": 41,
   "metadata": {},
   "outputs": [
    {
     "name": "stdout",
     "output_type": "stream",
     "text": [
      "Sorry I can only invite 2 people at the dinner.\n",
      "Hello Ayesha, I am sorry couldn't invite you to the dinner.\n",
      "Hello Nano, I am sorry couldn't invite you to the dinner.\n",
      "Hello Mateen Bhai, I am sorry couldn't invite you to the dinner.\n",
      "Hello Abeera, I am sorry couldn't invite you to the dinner.\n",
      "Hello Aabish, I am sorry couldn't invite you to the dinner.\n",
      "Hello Nana Abbu, I am sorry couldn't invite you to the dinner.\n",
      "Asma Aapi , you are still invited to the dinner.\n",
      "Rida Aaapi , you are still invited to the dinner.\n",
      "[]\n"
     ]
    }
   ],
   "source": [
    "# shrinking Guest list\n",
    "guests : list = ['Asma Aapi', 'Rida Aaapi', 'Nana Abbu', 'Aabish', 'Abeera', 'Mateen Bhai', 'Nano', 'Ayesha']\n",
    "# apologizing for not inviting more than 2 person at the dinner?\n",
    "print(\"Sorry I can only invite 2 people at the dinner.\")\n",
    "print(f\"Hello {guests.pop()}, I am sorry couldn't invite you to the dinner.\")\n",
    "print(f\"Hello {guests.pop()}, I am sorry couldn't invite you to the dinner.\")\n",
    "print(f\"Hello {guests.pop()}, I am sorry couldn't invite you to the dinner.\")\n",
    "print(f\"Hello {guests.pop()}, I am sorry couldn't invite you to the dinner.\")\n",
    "print(f\"Hello {guests.pop()}, I am sorry couldn't invite you to the dinner.\")\n",
    "print(f\"Hello {guests.pop()}, I am sorry couldn't invite you to the dinner.\")\n",
    "# printing message to the people in the list that they are still invited\n",
    "print(f\"{guests[0]} , you are still invited to the dinner.\")\n",
    "print(f\"{guests[1]} , you are still invited to the dinner.\")\n",
    "# clearing guest list\n",
    "del guests[0]\n",
    "del guests[0]\n",
    "# printing the list to ensure the list is empty\n",
    "print(guests)"
   ]
  },
  {
   "cell_type": "code",
   "execution_count": 55,
   "metadata": {},
   "outputs": [
    {
     "name": "stdout",
     "output_type": "stream",
     "text": [
      "The list in original order:  ['Turkey', 'Kashmir', 'Swat', 'Saudia Arabia', 'Malaysia']\n",
      "List in alphabetical Order(using sorted()):  ['Kashmir', 'Malaysia', 'Saudia Arabia', 'Swat', 'Turkey']\n",
      "The list is still unchanged:  ['Turkey', 'Kashmir', 'Swat', 'Saudia Arabia', 'Malaysia']\n",
      "List in reverse alphabetical order(using sorted()):  ['Turkey', 'Swat', 'Saudia Arabia', 'Malaysia', 'Kashmir']\n",
      "The list is still unchanged:  ['Turkey', 'Kashmir', 'Swat', 'Saudia Arabia', 'Malaysia']\n",
      "Using reverse() to change the order of the list:  ['Malaysia', 'Saudia Arabia', 'Swat', 'Kashmir', 'Turkey']\n",
      "Using reverse() again to change the order of the list:  ['Turkey', 'Kashmir', 'Swat', 'Saudia Arabia', 'Malaysia']\n",
      "List in it's original order:  ['Turkey', 'Kashmir', 'Swat', 'Saudia Arabia', 'Malaysia']\n",
      "list in alphabetical order using sort() ['Kashmir', 'Malaysia', 'Saudia Arabia', 'Swat', 'Turkey']\n",
      "List is now changed from it's original order:  ['Kashmir', 'Malaysia', 'Saudia Arabia', 'Swat', 'Turkey']\n",
      "List in reverse alphabetical order using sort() ['Turkey', 'Swat', 'Saudia Arabia', 'Malaysia', 'Kashmir']\n",
      "List is now changed from it's original order:  ['Turkey', 'Swat', 'Saudia Arabia', 'Malaysia', 'Kashmir']\n"
     ]
    }
   ],
   "source": [
    "#Seeing the World\n",
    "place_to_visit :list = ['Turkey','Kashmir','Swat','Saudia Arabia','Malaysia']\n",
    "print(\"The list in original order: \",place_to_visit)\n",
    "print(\"List in alphabetical Order(using sorted()): \",sorted(place_to_visit))\n",
    "print(\"The list is still unchanged: \",place_to_visit)\n",
    "print(\"List in reverse alphabetical order(using sorted()): \",sorted(place_to_visit,reverse=True))\n",
    "print(\"The list is still unchanged: \",place_to_visit)\n",
    "place_to_visit.reverse()\n",
    "print(\"Using reverse() to change the order of the list: \",place_to_visit)\n",
    "place_to_visit.reverse()\n",
    "print(\"Using reverse() again to change the order of the list: \",place_to_visit)\n",
    "print(\"List in it's original order: \",place_to_visit)\n",
    "place_to_visit.sort()\n",
    "print(\"list in alphabetical order using sort()\",place_to_visit)\n",
    "print(\"List is now changed from it's original order: \",place_to_visit)\n",
    "place_to_visit.sort(reverse=True)\n",
    "print(\"List in reverse alphabetical order using sort()\",place_to_visit)\n",
    "print(\"List is now changed from it's original order: \",place_to_visit)"
   ]
  },
  {
   "cell_type": "code",
   "execution_count": 58,
   "metadata": {},
   "outputs": [
    {
     "name": "stdout",
     "output_type": "stream",
     "text": [
      "Original list: ['Apple', 'Banana', 'Cherry', 'Date']\n",
      "After append('Elderberry'): ['Apple', 'Banana', 'Cherry', 'Date', 'Elderberry']\n",
      "After insert(2, 'Fig'): ['Apple', 'Banana', 'Fig', 'Cherry', 'Date', 'Elderberry']\n",
      "After del fruits[3]: ['Apple', 'Banana', 'Fig', 'Date', 'Elderberry']\n",
      "After pop(): ['Apple', 'Banana', 'Fig', 'Date']\n",
      "Popped fruit: Elderberry\n",
      "After pop(1): ['Apple', 'Fig', 'Date']\n",
      "Popped fruit at index 1: Banana\n",
      "After remove('Fig'): ['Apple', 'Date']\n",
      "After sort(): ['Apple', 'Date']\n",
      "After sort(reverse=True): ['Date', 'Apple']\n",
      "Using sorted(): ['Apple', 'Date']\n",
      "List after using sorted(): ['Date', 'Apple']\n",
      "After reverse(): ['Apple', 'Date']\n",
      "Length of the list: 2\n"
     ]
    }
   ],
   "source": [
    "#every function\n",
    "fruits = ['Apple', 'Banana', 'Cherry', 'Date']\n",
    "print(\"Original list:\", fruits)\n",
    "fruits.append('Elderberry')\n",
    "print(\"After append('Elderberry'):\", fruits)\n",
    "fruits.insert(2, 'Fig')\n",
    "print(\"After insert(2, 'Fig'):\", fruits)\n",
    "del fruits[3]\n",
    "print(\"After del fruits[3]:\", fruits)\n",
    "popped_fruit = fruits.pop()\n",
    "print(\"After pop():\", fruits)\n",
    "print(\"Popped fruit:\", popped_fruit)\n",
    "popped_fruit_at_index = fruits.pop(1)\n",
    "print(\"After pop(1):\", fruits)\n",
    "print(\"Popped fruit at index 1:\", popped_fruit_at_index)\n",
    "fruits.remove('Fig')\n",
    "print(\"After remove('Fig'):\", fruits)\n",
    "fruits.sort()\n",
    "print(\"After sort():\", fruits)\n",
    "fruits.sort(reverse=True)\n",
    "print(\"After sort(reverse=True):\", fruits)\n",
    "print(\"Using sorted():\", sorted(fruits))\n",
    "print(\"List after using sorted():\", fruits)\n",
    "fruits.reverse()\n",
    "print(\"After reverse():\", fruits)\n",
    "print(\"Length of the list:\", len(fruits))\n"
   ]
  },
  {
   "cell_type": "code",
   "execution_count": 42,
   "metadata": {},
   "outputs": [
    {
     "ename": "IndexError",
     "evalue": "list index out of range",
     "output_type": "error",
     "traceback": [
      "\u001b[1;31m---------------------------------------------------------------------------\u001b[0m",
      "\u001b[1;31mIndexError\u001b[0m                                Traceback (most recent call last)",
      "Cell \u001b[1;32mIn[42], line 2\u001b[0m\n\u001b[0;32m      1\u001b[0m guests \u001b[38;5;241m=\u001b[39m [\u001b[38;5;124m'\u001b[39m\u001b[38;5;124mAsma Aapi\u001b[39m\u001b[38;5;124m'\u001b[39m, \u001b[38;5;124m'\u001b[39m\u001b[38;5;124mRida Aaapi\u001b[39m\u001b[38;5;124m'\u001b[39m, \u001b[38;5;124m'\u001b[39m\u001b[38;5;124mNana Abbu\u001b[39m\u001b[38;5;124m'\u001b[39m, \u001b[38;5;124m'\u001b[39m\u001b[38;5;124mAabish\u001b[39m\u001b[38;5;124m'\u001b[39m, \u001b[38;5;124m'\u001b[39m\u001b[38;5;124mAbeera\u001b[39m\u001b[38;5;124m'\u001b[39m, \u001b[38;5;124m'\u001b[39m\u001b[38;5;124mMateen Bhai\u001b[39m\u001b[38;5;124m'\u001b[39m, \u001b[38;5;124m'\u001b[39m\u001b[38;5;124mNano\u001b[39m\u001b[38;5;124m'\u001b[39m, \u001b[38;5;124m'\u001b[39m\u001b[38;5;124mAyesha\u001b[39m\u001b[38;5;124m'\u001b[39m]\n\u001b[1;32m----> 2\u001b[0m \u001b[38;5;28mprint\u001b[39m(\u001b[43mguests\u001b[49m\u001b[43m[\u001b[49m\u001b[38;5;241;43m8\u001b[39;49m\u001b[43m]\u001b[49m)  \u001b[38;5;66;03m# This will raise an IndexError because there is no element at index 8\u001b[39;00m\n",
      "\u001b[1;31mIndexError\u001b[0m: list index out of range"
     ]
    }
   ],
   "source": [
    "guests = ['Asma Aapi', 'Rida Aaapi', 'Nana Abbu', 'Aabish', 'Abeera', 'Mateen Bhai', 'Nano', 'Ayesha']\n",
    "print(guests[8])  # This will raise an IndexError because there is no element at index 8\n"
   ]
  }
 ],
 "metadata": {
  "kernelspec": {
   "display_name": "Python 3",
   "language": "python",
   "name": "python3"
  },
  "language_info": {
   "codemirror_mode": {
    "name": "ipython",
    "version": 3
   },
   "file_extension": ".py",
   "mimetype": "text/x-python",
   "name": "python",
   "nbconvert_exporter": "python",
   "pygments_lexer": "ipython3",
   "version": "3.12.4"
  }
 },
 "nbformat": 4,
 "nbformat_minor": 2
}
